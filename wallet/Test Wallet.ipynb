{
 "cells": [
  {
   "cell_type": "code",
   "execution_count": 2,
   "metadata": {},
   "outputs": [
    {
     "name": "stderr",
     "output_type": "stream",
     "text": [
      "Python-dotenv could not parse statement starting at line 24\n"
     ]
    }
   ],
   "source": [
    "from constants import *\n",
    "import os\n",
    "from dotenv import load_dotenv\n",
    "import subprocess\n",
    "import json\n",
    "from bit import PrivateKeyTestnet\n",
    "from web3 import Account, Web3\n",
    "w3 = Web3(Web3.HTTPProvider(\"http://localhost:8545\"))\n",
    "from bit.network import NetworkAPI\n",
    "from web3.middleware import geth_poa_middleware\n",
    "w3.middleware_onion.inject(geth_poa_middleware, layer=0)\n",
    "\n",
    "load_dotenv()\n",
    "\n",
    "def derive_wallets(coin): \n",
    "    mnemonic = os.getenv(\"MNMEMONIC_KEY_HW\")\n",
    "    coin = coin\n",
    "    depth = 3\n",
    "    command = f'php ./hd-wallet-derive/hd-wallet-derive.php -g --mnemonic=\"{mnemonic}\" --cols=all --coin={coin} --numderive={depth} --format=json'\n",
    "\n",
    "    p = subprocess.Popen(command, stdout=subprocess.PIPE, shell=True)\n",
    "    (output, err) = p.communicate()\n",
    "    p_status = p.wait()\n",
    "    return json.loads(output)\n",
    "\n",
    "coins = {'ETH': derive_wallets(ETH),\n",
    "        BTCTEST: derive_wallets(BTCTEST)}"
   ]
  },
  {
   "cell_type": "code",
   "execution_count": 32,
   "metadata": {},
   "outputs": [],
   "source": [
    "def priv_key_to_account(coin, priv_key):\n",
    "    if coin==ETH:\n",
    "        return Account.privateKeyToAccount(priv_key)\n",
    "    elif coin==BTCTEST:\n",
    "        return PrivateKeyTestnet(priv_key)\n",
    "    \n",
    "def create_tx(coin, account, to, amount):\n",
    "    if coin is ETH:\n",
    "        gasEstimate = self.w3.eth.estimateGas(\n",
    "            {\"from\": account.address, \"to\": to, \"value\": amount}\n",
    "        )\n",
    "        return {\n",
    "            \"from\": account.address,\n",
    "            \"to\": to,\n",
    "            \"value\": w3.toWei(amount, 'ether'),\n",
    "            \"gasPrice\": w3.eth.gasPrice,\n",
    "            \"gas\": gasEstimate,\n",
    "            \"nonce\": self.w3.eth.getTransactionCount(account.address),\n",
    "        }\n",
    "    elif coin is BTCTEST:\n",
    "        return PrivateKeyTestnet.prepare_transaction(account.address, [(to, amount, BTC)])\n",
    "    elif coin is BTC:\n",
    "        return PrivateKey.prepare_transaction(account.address, [(to, amount, BTC)])\n",
    "    else:\n",
    "        return None\n",
    "        \n",
    "def send_tx(coin, account, to, amount):\n",
    "    raw_tx = create_tx(coin, account, to, amount)\n",
    "    signed_tx = account.sign_transaction(raw_tx)\n",
    "    if coin is ETH:\n",
    "        return w3.eth.sendRawTransaction(signed_tx.rawTransaction)\n",
    "    elif coin is BTCTEST:\n",
    "        return NetworkAPI.broadcast_tx_testnet(signed_tx)\n",
    "    elif coin is BTC:\n",
    "        return NetworkAPI.broadcast_tx(signed_tx)\n",
    "    else:\n",
    "        return None"
   ]
  },
  {
   "cell_type": "code",
   "execution_count": 33,
   "metadata": {},
   "outputs": [
    {
     "name": "stdout",
     "output_type": "stream",
     "text": [
      "<PrivateKeyTestnet: mvdFJT4Q8tpxxDehTvjRhRRdMg6kkTFZfv>\n",
      "n1zfMNbZRGvmVMdwszoYsjHpA4Rdmb4u4M\n"
     ]
    }
   ],
   "source": [
    "account_from = priv_key_to_account(BTCTEST, coins[BTCTEST][0]['privkey'])\n",
    "account_to = coins[BTCTEST][1]['address']\n",
    "print(account_from)\n",
    "print(account_to)"
   ]
  },
  {
   "cell_type": "code",
   "execution_count": 34,
   "metadata": {},
   "outputs": [
    {
     "data": {
      "text/plain": [
       "'n1zfMNbZRGvmVMdwszoYsjHpA4Rdmb4u4M'"
      ]
     },
     "execution_count": 34,
     "metadata": {},
     "output_type": "execute_result"
    }
   ],
   "source": [
    "account_to"
   ]
  },
  {
   "cell_type": "code",
   "execution_count": 35,
   "metadata": {},
   "outputs": [],
   "source": [
    "send_tx(BTCTEST, account_from, account_to, '0.00055')"
   ]
  },
  {
   "cell_type": "code",
   "execution_count": null,
   "metadata": {},
   "outputs": [],
   "source": []
  }
 ],
 "metadata": {
  "kernelspec": {
   "display_name": "Python 3",
   "language": "python",
   "name": "python3"
  },
  "language_info": {
   "codemirror_mode": {
    "name": "ipython",
    "version": 3
   },
   "file_extension": ".py",
   "mimetype": "text/x-python",
   "name": "python",
   "nbconvert_exporter": "python",
   "pygments_lexer": "ipython3",
   "version": "3.8.5"
  }
 },
 "nbformat": 4,
 "nbformat_minor": 5
}
